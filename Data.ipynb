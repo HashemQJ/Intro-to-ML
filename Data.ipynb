{
 "cells": [
  {
   "cell_type": "code",
   "execution_count": 1,
   "id": "f63d27f5-61b6-4037-8e86-1cca90980748",
   "metadata": {},
   "outputs": [
    {
     "name": "stdout",
     "output_type": "stream",
     "text": [
      "                    name     role     type      demographic  \\\n",
      "0                     ID       ID  Integer             None   \n",
      "1        Diabetes_binary   Target   Binary             None   \n",
      "2                 HighBP  Feature   Binary             None   \n",
      "3               HighChol  Feature   Binary             None   \n",
      "4              CholCheck  Feature   Binary             None   \n",
      "5                    BMI  Feature  Integer             None   \n",
      "6                 Smoker  Feature   Binary             None   \n",
      "7                 Stroke  Feature   Binary             None   \n",
      "8   HeartDiseaseorAttack  Feature   Binary             None   \n",
      "9           PhysActivity  Feature   Binary             None   \n",
      "10                Fruits  Feature   Binary             None   \n",
      "11               Veggies  Feature   Binary             None   \n",
      "12     HvyAlcoholConsump  Feature   Binary             None   \n",
      "13         AnyHealthcare  Feature   Binary             None   \n",
      "14           NoDocbcCost  Feature   Binary             None   \n",
      "15               GenHlth  Feature  Integer             None   \n",
      "16              MentHlth  Feature  Integer             None   \n",
      "17              PhysHlth  Feature  Integer             None   \n",
      "18              DiffWalk  Feature   Binary             None   \n",
      "19                   Sex  Feature   Binary              Sex   \n",
      "20                   Age  Feature  Integer              Age   \n",
      "21             Education  Feature  Integer  Education Level   \n",
      "22                Income  Feature  Integer           Income   \n",
      "\n",
      "                                          description units missing_values  \n",
      "0                                          Patient ID  None             no  \n",
      "1         0 = no diabetes 1 = prediabetes or diabetes  None             no  \n",
      "2                          0 = no high BP 1 = high BP  None             no  \n",
      "3        0 = no high cholesterol 1 = high cholesterol  None             no  \n",
      "4   0 = no cholesterol check in 5 years 1 = yes ch...  None             no  \n",
      "5                                     Body Mass Index  None             no  \n",
      "6   Have you smoked at least 100 cigarettes in you...  None             no  \n",
      "7        (Ever told) you had a stroke. 0 = no 1 = yes  None             no  \n",
      "8   coronary heart disease (CHD) or myocardial inf...  None             no  \n",
      "9   physical activity in past 30 days - not includ...  None             no  \n",
      "10  Consume Fruit 1 or more times per day 0 = no 1...  None             no  \n",
      "11  Consume Vegetables 1 or more times per day 0 =...  None             no  \n",
      "12  Heavy drinkers (adult men having more than 14 ...  None             no  \n",
      "13  Have any kind of health care coverage, includi...  None             no  \n",
      "14  Was there a time in the past 12 months when yo...  None             no  \n",
      "15  Would you say that in general your health is: ...  None             no  \n",
      "16  Now thinking about your mental health, which i...  None             no  \n",
      "17  Now thinking about your physical health, which...  None             no  \n",
      "18  Do you have serious difficulty walking or clim...  None             no  \n",
      "19                                0 = female 1 = male  None             no  \n",
      "20  13-level age category (_AGEG5YR see codebook) ...  None             no  \n",
      "21  Education level (EDUCA see codebook) scale 1-6...  None             no  \n",
      "22  Income scale (INCOME2 see codebook) scale 1-8 ...  None             no  \n",
      "253680\n",
      "Diabetes_binary\n",
      "0                  218334\n",
      "1                   35346\n",
      "Name: count, dtype: int64\n"
     ]
    },
    {
     "data": {
      "text/plain": [
       "<Axes: xlabel='Diabetes_binary'>"
      ]
     },
     "execution_count": 1,
     "metadata": {},
     "output_type": "execute_result"
    },
    {
     "data": {
      "image/png": "[encoded data removed]",
      "text/plain": [
       "<Figure size 640x480 with 1 Axes>"
      ]
     },
     "metadata": {},
     "output_type": "display_data"
    }
   ],
   "source": [
    "from ucimlrepo import fetch_ucirepo \n",
    "import pandas as pd\n",
    "  \n",
    "# fetch dataset \n",
    "cdc_diabetes_health_indicators = fetch_ucirepo(id=891) \n",
    "  \n",
    "# data (as pandas dataframes) \n",
    "X = cdc_diabetes_health_indicators.data.features \n",
    "y = cdc_diabetes_health_indicators.data.targets \n",
    "  \n",
    "# variable information \n",
    "print(cdc_diabetes_health_indicators.variables) \n",
    "\n",
    "print(len(y))\n",
    "print(y.value_counts())\n",
    "\n",
    "# check if dataset is balanced\n",
    "y.value_counts().plot(kind = 'bar')"
   ]
  },
  {
   "cell_type": "code",
   "execution_count": null,
   "id": "cfd873c0-746c-49be-9848-b80b2c0714a0",
   "metadata": {},
   "outputs": [],
   "source": []
  }
 ],
 "metadata": {
  "kernelspec": {
   "display_name": "Python 3 (ipykernel)",
   "language": "python",
   "name": "python3"
  },
  "language_info": {
   "codemirror_mode": {
    "name": "ipython",
    "version": 3
   },
   "file_extension": ".py",
   "mimetype": "text/x-python",
   "name": "python",
   "nbconvert_exporter": "python",
   "pygments_lexer": "ipython3",
   "version": "3.12.4"
  }
 },
 "nbformat": 4,
 "nbformat_minor": 5
}
